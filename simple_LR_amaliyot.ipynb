{
  "nbformat": 4,
  "nbformat_minor": 0,
  "metadata": {
    "colab": {
      "provenance": [],
      "authorship_tag": "ABX9TyMI8sFKOMw0cfkWcagwPhJh",
      "include_colab_link": true
    },
    "kernelspec": {
      "name": "python3",
      "display_name": "Python 3"
    },
    "language_info": {
      "name": "python"
    }
  },
  "cells": [
    {
      "cell_type": "markdown",
      "metadata": {
        "id": "view-in-github",
        "colab_type": "text"
      },
      "source": [
        "<a href=\"https://colab.research.google.com/github/sitbayevalibek/data-science-praktikum-amaliyotlar/blob/main/simple_LR_amaliyot.ipynb\" target=\"_parent\"><img src=\"https://colab.research.google.com/assets/colab-badge.svg\" alt=\"Open In Colab\"/></a>"
      ]
    },
    {
      "cell_type": "code",
      "execution_count": 32,
      "metadata": {
        "colab": {
          "base_uri": "https://localhost:8080/",
          "height": 362
        },
        "id": "5ISp1VOqcMlF",
        "outputId": "7c1e0ae5-7598-4f03-9b46-4135219315d8"
      },
      "outputs": [
        {
          "output_type": "execute_result",
          "data": {
            "text/plain": [
              "        district  rooms  size  level  max_levels    price\n",
              "0   Юнусабадский      3  57.0      4           4  52000.0\n",
              "1  Яккасарайский      2  52.0      4           5  56000.0\n",
              "2   Чиланзарский      2  42.0      4           4  37000.0\n",
              "3   Чиланзарский      3  65.0      1           4  49500.0\n",
              "4   Чиланзарский      3  70.0      3           5  55000.0\n",
              "5   Чиланзарский      1  28.0      1           4  25500.0\n",
              "6   Чиланзарский      1  30.0      2           4  21200.0\n",
              "7  Яккасарайский      2  32.0      5           5  20000.0\n",
              "8    Учтепинский      2  51.0      3           4  26200.0\n",
              "9   Чиланзарский      1  30.0      1           4  22200.0"
            ],
            "text/html": [
              "\n",
              "  <div id=\"df-3f5ba3c1-d695-48f5-bc6d-934514208a66\">\n",
              "    <div class=\"colab-df-container\">\n",
              "      <div>\n",
              "<style scoped>\n",
              "    .dataframe tbody tr th:only-of-type {\n",
              "        vertical-align: middle;\n",
              "    }\n",
              "\n",
              "    .dataframe tbody tr th {\n",
              "        vertical-align: top;\n",
              "    }\n",
              "\n",
              "    .dataframe thead th {\n",
              "        text-align: right;\n",
              "    }\n",
              "</style>\n",
              "<table border=\"1\" class=\"dataframe\">\n",
              "  <thead>\n",
              "    <tr style=\"text-align: right;\">\n",
              "      <th></th>\n",
              "      <th>district</th>\n",
              "      <th>rooms</th>\n",
              "      <th>size</th>\n",
              "      <th>level</th>\n",
              "      <th>max_levels</th>\n",
              "      <th>price</th>\n",
              "    </tr>\n",
              "  </thead>\n",
              "  <tbody>\n",
              "    <tr>\n",
              "      <th>0</th>\n",
              "      <td>Юнусабадский</td>\n",
              "      <td>3</td>\n",
              "      <td>57.0</td>\n",
              "      <td>4</td>\n",
              "      <td>4</td>\n",
              "      <td>52000.0</td>\n",
              "    </tr>\n",
              "    <tr>\n",
              "      <th>1</th>\n",
              "      <td>Яккасарайский</td>\n",
              "      <td>2</td>\n",
              "      <td>52.0</td>\n",
              "      <td>4</td>\n",
              "      <td>5</td>\n",
              "      <td>56000.0</td>\n",
              "    </tr>\n",
              "    <tr>\n",
              "      <th>2</th>\n",
              "      <td>Чиланзарский</td>\n",
              "      <td>2</td>\n",
              "      <td>42.0</td>\n",
              "      <td>4</td>\n",
              "      <td>4</td>\n",
              "      <td>37000.0</td>\n",
              "    </tr>\n",
              "    <tr>\n",
              "      <th>3</th>\n",
              "      <td>Чиланзарский</td>\n",
              "      <td>3</td>\n",
              "      <td>65.0</td>\n",
              "      <td>1</td>\n",
              "      <td>4</td>\n",
              "      <td>49500.0</td>\n",
              "    </tr>\n",
              "    <tr>\n",
              "      <th>4</th>\n",
              "      <td>Чиланзарский</td>\n",
              "      <td>3</td>\n",
              "      <td>70.0</td>\n",
              "      <td>3</td>\n",
              "      <td>5</td>\n",
              "      <td>55000.0</td>\n",
              "    </tr>\n",
              "    <tr>\n",
              "      <th>5</th>\n",
              "      <td>Чиланзарский</td>\n",
              "      <td>1</td>\n",
              "      <td>28.0</td>\n",
              "      <td>1</td>\n",
              "      <td>4</td>\n",
              "      <td>25500.0</td>\n",
              "    </tr>\n",
              "    <tr>\n",
              "      <th>6</th>\n",
              "      <td>Чиланзарский</td>\n",
              "      <td>1</td>\n",
              "      <td>30.0</td>\n",
              "      <td>2</td>\n",
              "      <td>4</td>\n",
              "      <td>21200.0</td>\n",
              "    </tr>\n",
              "    <tr>\n",
              "      <th>7</th>\n",
              "      <td>Яккасарайский</td>\n",
              "      <td>2</td>\n",
              "      <td>32.0</td>\n",
              "      <td>5</td>\n",
              "      <td>5</td>\n",
              "      <td>20000.0</td>\n",
              "    </tr>\n",
              "    <tr>\n",
              "      <th>8</th>\n",
              "      <td>Учтепинский</td>\n",
              "      <td>2</td>\n",
              "      <td>51.0</td>\n",
              "      <td>3</td>\n",
              "      <td>4</td>\n",
              "      <td>26200.0</td>\n",
              "    </tr>\n",
              "    <tr>\n",
              "      <th>9</th>\n",
              "      <td>Чиланзарский</td>\n",
              "      <td>1</td>\n",
              "      <td>30.0</td>\n",
              "      <td>1</td>\n",
              "      <td>4</td>\n",
              "      <td>22200.0</td>\n",
              "    </tr>\n",
              "  </tbody>\n",
              "</table>\n",
              "</div>\n",
              "      <button class=\"colab-df-convert\" onclick=\"convertToInteractive('df-3f5ba3c1-d695-48f5-bc6d-934514208a66')\"\n",
              "              title=\"Convert this dataframe to an interactive table.\"\n",
              "              style=\"display:none;\">\n",
              "        \n",
              "  <svg xmlns=\"http://www.w3.org/2000/svg\" height=\"24px\"viewBox=\"0 0 24 24\"\n",
              "       width=\"24px\">\n",
              "    <path d=\"M0 0h24v24H0V0z\" fill=\"none\"/>\n",
              "    <path d=\"M18.56 5.44l.94 2.06.94-2.06 2.06-.94-2.06-.94-.94-2.06-.94 2.06-2.06.94zm-11 1L8.5 8.5l.94-2.06 2.06-.94-2.06-.94L8.5 2.5l-.94 2.06-2.06.94zm10 10l.94 2.06.94-2.06 2.06-.94-2.06-.94-.94-2.06-.94 2.06-2.06.94z\"/><path d=\"M17.41 7.96l-1.37-1.37c-.4-.4-.92-.59-1.43-.59-.52 0-1.04.2-1.43.59L10.3 9.45l-7.72 7.72c-.78.78-.78 2.05 0 2.83L4 21.41c.39.39.9.59 1.41.59.51 0 1.02-.2 1.41-.59l7.78-7.78 2.81-2.81c.8-.78.8-2.07 0-2.86zM5.41 20L4 18.59l7.72-7.72 1.47 1.35L5.41 20z\"/>\n",
              "  </svg>\n",
              "      </button>\n",
              "      \n",
              "  <style>\n",
              "    .colab-df-container {\n",
              "      display:flex;\n",
              "      flex-wrap:wrap;\n",
              "      gap: 12px;\n",
              "    }\n",
              "\n",
              "    .colab-df-convert {\n",
              "      background-color: #E8F0FE;\n",
              "      border: none;\n",
              "      border-radius: 50%;\n",
              "      cursor: pointer;\n",
              "      display: none;\n",
              "      fill: #1967D2;\n",
              "      height: 32px;\n",
              "      padding: 0 0 0 0;\n",
              "      width: 32px;\n",
              "    }\n",
              "\n",
              "    .colab-df-convert:hover {\n",
              "      background-color: #E2EBFA;\n",
              "      box-shadow: 0px 1px 2px rgba(60, 64, 67, 0.3), 0px 1px 3px 1px rgba(60, 64, 67, 0.15);\n",
              "      fill: #174EA6;\n",
              "    }\n",
              "\n",
              "    [theme=dark] .colab-df-convert {\n",
              "      background-color: #3B4455;\n",
              "      fill: #D2E3FC;\n",
              "    }\n",
              "\n",
              "    [theme=dark] .colab-df-convert:hover {\n",
              "      background-color: #434B5C;\n",
              "      box-shadow: 0px 1px 3px 1px rgba(0, 0, 0, 0.15);\n",
              "      filter: drop-shadow(0px 1px 2px rgba(0, 0, 0, 0.3));\n",
              "      fill: #FFFFFF;\n",
              "    }\n",
              "  </style>\n",
              "\n",
              "      <script>\n",
              "        const buttonEl =\n",
              "          document.querySelector('#df-3f5ba3c1-d695-48f5-bc6d-934514208a66 button.colab-df-convert');\n",
              "        buttonEl.style.display =\n",
              "          google.colab.kernel.accessAllowed ? 'block' : 'none';\n",
              "\n",
              "        async function convertToInteractive(key) {\n",
              "          const element = document.querySelector('#df-3f5ba3c1-d695-48f5-bc6d-934514208a66');\n",
              "          const dataTable =\n",
              "            await google.colab.kernel.invokeFunction('convertToInteractive',\n",
              "                                                     [key], {});\n",
              "          if (!dataTable) return;\n",
              "\n",
              "          const docLinkHtml = 'Like what you see? Visit the ' +\n",
              "            '<a target=\"_blank\" href=https://colab.research.google.com/notebooks/data_table.ipynb>data table notebook</a>'\n",
              "            + ' to learn more about interactive tables.';\n",
              "          element.innerHTML = '';\n",
              "          dataTable['output_type'] = 'display_data';\n",
              "          await google.colab.output.renderOutput(dataTable, element);\n",
              "          const docLink = document.createElement('div');\n",
              "          docLink.innerHTML = docLinkHtml;\n",
              "          element.appendChild(docLink);\n",
              "        }\n",
              "      </script>\n",
              "    </div>\n",
              "  </div>\n",
              "  "
            ]
          },
          "metadata": {},
          "execution_count": 32
        }
      ],
      "source": [
        "import numpy as np\n",
        "import pandas as pd\n",
        "df = pd.read_csv('https://raw.githubusercontent.com/sitbayevalibek/praktikum_datasets/main/housing_LR.csv', index_col=0)\n",
        "df.head(10)"
      ]
    },
    {
      "cell_type": "code",
      "source": [
        "housing = df[df.district=='Чиланзарский']\n",
        "housing.head()"
      ],
      "metadata": {
        "colab": {
          "base_uri": "https://localhost:8080/",
          "height": 206
        },
        "id": "tIVMGaJLcOpt",
        "outputId": "03faa9e2-4bea-4093-aaec-a7c057b5e053"
      },
      "execution_count": 4,
      "outputs": [
        {
          "output_type": "execute_result",
          "data": {
            "text/plain": [
              "       district  rooms  size  level  max_levels    price\n",
              "2  Чиланзарский      2  42.0      4           4  37000.0\n",
              "3  Чиланзарский      3  65.0      1           4  49500.0\n",
              "4  Чиланзарский      3  70.0      3           5  55000.0\n",
              "5  Чиланзарский      1  28.0      1           4  25500.0\n",
              "6  Чиланзарский      1  30.0      2           4  21200.0"
            ],
            "text/html": [
              "\n",
              "  <div id=\"df-4dc8bbd9-16f6-41f8-8290-5f04d8cbde8f\">\n",
              "    <div class=\"colab-df-container\">\n",
              "      <div>\n",
              "<style scoped>\n",
              "    .dataframe tbody tr th:only-of-type {\n",
              "        vertical-align: middle;\n",
              "    }\n",
              "\n",
              "    .dataframe tbody tr th {\n",
              "        vertical-align: top;\n",
              "    }\n",
              "\n",
              "    .dataframe thead th {\n",
              "        text-align: right;\n",
              "    }\n",
              "</style>\n",
              "<table border=\"1\" class=\"dataframe\">\n",
              "  <thead>\n",
              "    <tr style=\"text-align: right;\">\n",
              "      <th></th>\n",
              "      <th>district</th>\n",
              "      <th>rooms</th>\n",
              "      <th>size</th>\n",
              "      <th>level</th>\n",
              "      <th>max_levels</th>\n",
              "      <th>price</th>\n",
              "    </tr>\n",
              "  </thead>\n",
              "  <tbody>\n",
              "    <tr>\n",
              "      <th>2</th>\n",
              "      <td>Чиланзарский</td>\n",
              "      <td>2</td>\n",
              "      <td>42.0</td>\n",
              "      <td>4</td>\n",
              "      <td>4</td>\n",
              "      <td>37000.0</td>\n",
              "    </tr>\n",
              "    <tr>\n",
              "      <th>3</th>\n",
              "      <td>Чиланзарский</td>\n",
              "      <td>3</td>\n",
              "      <td>65.0</td>\n",
              "      <td>1</td>\n",
              "      <td>4</td>\n",
              "      <td>49500.0</td>\n",
              "    </tr>\n",
              "    <tr>\n",
              "      <th>4</th>\n",
              "      <td>Чиланзарский</td>\n",
              "      <td>3</td>\n",
              "      <td>70.0</td>\n",
              "      <td>3</td>\n",
              "      <td>5</td>\n",
              "      <td>55000.0</td>\n",
              "    </tr>\n",
              "    <tr>\n",
              "      <th>5</th>\n",
              "      <td>Чиланзарский</td>\n",
              "      <td>1</td>\n",
              "      <td>28.0</td>\n",
              "      <td>1</td>\n",
              "      <td>4</td>\n",
              "      <td>25500.0</td>\n",
              "    </tr>\n",
              "    <tr>\n",
              "      <th>6</th>\n",
              "      <td>Чиланзарский</td>\n",
              "      <td>1</td>\n",
              "      <td>30.0</td>\n",
              "      <td>2</td>\n",
              "      <td>4</td>\n",
              "      <td>21200.0</td>\n",
              "    </tr>\n",
              "  </tbody>\n",
              "</table>\n",
              "</div>\n",
              "      <button class=\"colab-df-convert\" onclick=\"convertToInteractive('df-4dc8bbd9-16f6-41f8-8290-5f04d8cbde8f')\"\n",
              "              title=\"Convert this dataframe to an interactive table.\"\n",
              "              style=\"display:none;\">\n",
              "        \n",
              "  <svg xmlns=\"http://www.w3.org/2000/svg\" height=\"24px\"viewBox=\"0 0 24 24\"\n",
              "       width=\"24px\">\n",
              "    <path d=\"M0 0h24v24H0V0z\" fill=\"none\"/>\n",
              "    <path d=\"M18.56 5.44l.94 2.06.94-2.06 2.06-.94-2.06-.94-.94-2.06-.94 2.06-2.06.94zm-11 1L8.5 8.5l.94-2.06 2.06-.94-2.06-.94L8.5 2.5l-.94 2.06-2.06.94zm10 10l.94 2.06.94-2.06 2.06-.94-2.06-.94-.94-2.06-.94 2.06-2.06.94z\"/><path d=\"M17.41 7.96l-1.37-1.37c-.4-.4-.92-.59-1.43-.59-.52 0-1.04.2-1.43.59L10.3 9.45l-7.72 7.72c-.78.78-.78 2.05 0 2.83L4 21.41c.39.39.9.59 1.41.59.51 0 1.02-.2 1.41-.59l7.78-7.78 2.81-2.81c.8-.78.8-2.07 0-2.86zM5.41 20L4 18.59l7.72-7.72 1.47 1.35L5.41 20z\"/>\n",
              "  </svg>\n",
              "      </button>\n",
              "      \n",
              "  <style>\n",
              "    .colab-df-container {\n",
              "      display:flex;\n",
              "      flex-wrap:wrap;\n",
              "      gap: 12px;\n",
              "    }\n",
              "\n",
              "    .colab-df-convert {\n",
              "      background-color: #E8F0FE;\n",
              "      border: none;\n",
              "      border-radius: 50%;\n",
              "      cursor: pointer;\n",
              "      display: none;\n",
              "      fill: #1967D2;\n",
              "      height: 32px;\n",
              "      padding: 0 0 0 0;\n",
              "      width: 32px;\n",
              "    }\n",
              "\n",
              "    .colab-df-convert:hover {\n",
              "      background-color: #E2EBFA;\n",
              "      box-shadow: 0px 1px 2px rgba(60, 64, 67, 0.3), 0px 1px 3px 1px rgba(60, 64, 67, 0.15);\n",
              "      fill: #174EA6;\n",
              "    }\n",
              "\n",
              "    [theme=dark] .colab-df-convert {\n",
              "      background-color: #3B4455;\n",
              "      fill: #D2E3FC;\n",
              "    }\n",
              "\n",
              "    [theme=dark] .colab-df-convert:hover {\n",
              "      background-color: #434B5C;\n",
              "      box-shadow: 0px 1px 3px 1px rgba(0, 0, 0, 0.15);\n",
              "      filter: drop-shadow(0px 1px 2px rgba(0, 0, 0, 0.3));\n",
              "      fill: #FFFFFF;\n",
              "    }\n",
              "  </style>\n",
              "\n",
              "      <script>\n",
              "        const buttonEl =\n",
              "          document.querySelector('#df-4dc8bbd9-16f6-41f8-8290-5f04d8cbde8f button.colab-df-convert');\n",
              "        buttonEl.style.display =\n",
              "          google.colab.kernel.accessAllowed ? 'block' : 'none';\n",
              "\n",
              "        async function convertToInteractive(key) {\n",
              "          const element = document.querySelector('#df-4dc8bbd9-16f6-41f8-8290-5f04d8cbde8f');\n",
              "          const dataTable =\n",
              "            await google.colab.kernel.invokeFunction('convertToInteractive',\n",
              "                                                     [key], {});\n",
              "          if (!dataTable) return;\n",
              "\n",
              "          const docLinkHtml = 'Like what you see? Visit the ' +\n",
              "            '<a target=\"_blank\" href=https://colab.research.google.com/notebooks/data_table.ipynb>data table notebook</a>'\n",
              "            + ' to learn more about interactive tables.';\n",
              "          element.innerHTML = '';\n",
              "          dataTable['output_type'] = 'display_data';\n",
              "          await google.colab.output.renderOutput(dataTable, element);\n",
              "          const docLink = document.createElement('div');\n",
              "          docLink.innerHTML = docLinkHtml;\n",
              "          element.appendChild(docLink);\n",
              "        }\n",
              "      </script>\n",
              "    </div>\n",
              "  </div>\n",
              "  "
            ]
          },
          "metadata": {},
          "execution_count": 4
        }
      ]
    },
    {
      "cell_type": "code",
      "source": [
        "X = housing['size']\n",
        "X"
      ],
      "metadata": {
        "colab": {
          "base_uri": "https://localhost:8080/"
        },
        "id": "xhJclEW3cwuP",
        "outputId": "73d6356d-0f1d-4059-952b-239428041dad"
      },
      "execution_count": 5,
      "outputs": [
        {
          "output_type": "execute_result",
          "data": {
            "text/plain": [
              "2       42.0\n",
              "3       65.0\n",
              "4       70.0\n",
              "5       28.0\n",
              "6       30.0\n",
              "        ... \n",
              "7404    70.0\n",
              "7422    20.0\n",
              "7433    32.0\n",
              "7445    70.0\n",
              "7464    30.0\n",
              "Name: size, Length: 1616, dtype: float64"
            ]
          },
          "metadata": {},
          "execution_count": 5
        }
      ]
    },
    {
      "cell_type": "code",
      "source": [
        "y = housing['price']\n",
        "y"
      ],
      "metadata": {
        "colab": {
          "base_uri": "https://localhost:8080/"
        },
        "id": "6ntvkVV3dHo9",
        "outputId": "154b9f96-c08f-4114-bad9-9db276b11663"
      },
      "execution_count": 6,
      "outputs": [
        {
          "output_type": "execute_result",
          "data": {
            "text/plain": [
              "2       37000.0\n",
              "3       49500.0\n",
              "4       55000.0\n",
              "5       25500.0\n",
              "6       21200.0\n",
              "         ...   \n",
              "7404    48000.0\n",
              "7422    18500.0\n",
              "7433    28000.0\n",
              "7445    49800.0\n",
              "7464    22914.0\n",
              "Name: price, Length: 1616, dtype: float64"
            ]
          },
          "metadata": {},
          "execution_count": 6
        }
      ]
    },
    {
      "cell_type": "code",
      "source": [
        "import matplotlib.pyplot as plt\n",
        "import seaborn as sns\n",
        "%matplotlib inline"
      ],
      "metadata": {
        "id": "pM3gtkkHdKT4"
      },
      "execution_count": 7,
      "outputs": []
    },
    {
      "cell_type": "code",
      "source": [
        "plt.figure(figsize=(10,6))\n",
        "sns.scatterplot(data=housing, x='size', y='price')\n",
        "plt.show()"
      ],
      "metadata": {
        "colab": {
          "base_uri": "https://localhost:8080/",
          "height": 542
        },
        "id": "zbFhAegRdRqC",
        "outputId": "0f72ff8c-3fa1-4b2e-97a5-6413dcd87d75"
      },
      "execution_count": 8,
      "outputs": [
        {
          "output_type": "display_data",
          "data": {
            "text/plain": [
              "<Figure size 1000x600 with 1 Axes>"
            ],
            "image/png": "[encoded data removed]"
          },
          "metadata": {}
        }
      ]
    },
    {
      "cell_type": "code",
      "source": [
        "plt.figure(figsize=(10,6))\n",
        "sns.regplot(data=housing, x='size', y='price', line_kws={\"color\": \"red\"})\n",
        "plt.show()"
      ],
      "metadata": {
        "colab": {
          "base_uri": "https://localhost:8080/",
          "height": 542
        },
        "id": "-bqwFWXodTog",
        "outputId": "7f04fea4-06b8-41b1-dcdf-fb94e15f9052"
      },
      "execution_count": 9,
      "outputs": [
        {
          "output_type": "display_data",
          "data": {
            "text/plain": [
              "<Figure size 1000x600 with 1 Axes>"
            ],
            "image/png": "[encoded data removed]"
          },
          "metadata": {}
        }
      ]
    },
    {
      "cell_type": "code",
      "source": [
        "X.head()"
      ],
      "metadata": {
        "colab": {
          "base_uri": "https://localhost:8080/"
        },
        "id": "sBwI1OObdbj4",
        "outputId": "e5f72383-310c-4baa-b4ac-842c6ac07271"
      },
      "execution_count": 10,
      "outputs": [
        {
          "output_type": "execute_result",
          "data": {
            "text/plain": [
              "2    42.0\n",
              "3    65.0\n",
              "4    70.0\n",
              "5    28.0\n",
              "6    30.0\n",
              "Name: size, dtype: float64"
            ]
          },
          "metadata": {},
          "execution_count": 10
        }
      ]
    },
    {
      "cell_type": "code",
      "source": [
        "y.head()"
      ],
      "metadata": {
        "colab": {
          "base_uri": "https://localhost:8080/"
        },
        "id": "PWIsOKJxfkoj",
        "outputId": "b137383e-f817-4ff6-d544-2ce9d1ef9f1c"
      },
      "execution_count": 11,
      "outputs": [
        {
          "output_type": "execute_result",
          "data": {
            "text/plain": [
              "2    37000.0\n",
              "3    49500.0\n",
              "4    55000.0\n",
              "5    25500.0\n",
              "6    21200.0\n",
              "Name: price, dtype: float64"
            ]
          },
          "metadata": {},
          "execution_count": 11
        }
      ]
    },
    {
      "cell_type": "code",
      "source": [
        "x_mean = X.mean()\n",
        "x_mean"
      ],
      "metadata": {
        "colab": {
          "base_uri": "https://localhost:8080/"
        },
        "id": "uTk57f8Tfmm9",
        "outputId": "5e749c5f-fd8f-45b9-9917-661d4980b43b"
      },
      "execution_count": 12,
      "outputs": [
        {
          "output_type": "execute_result",
          "data": {
            "text/plain": [
              "61.90783415841584"
            ]
          },
          "metadata": {},
          "execution_count": 12
        }
      ]
    },
    {
      "cell_type": "code",
      "source": [
        "y_mean = y.mean()\n",
        "y_mean"
      ],
      "metadata": {
        "colab": {
          "base_uri": "https://localhost:8080/"
        },
        "id": "Aq98y7ybf5u7",
        "outputId": "8ef6e52d-0d3c-4412-9a53-370bb6208530"
      },
      "execution_count": 13,
      "outputs": [
        {
          "output_type": "execute_result",
          "data": {
            "text/plain": [
              "45617.487623762376"
            ]
          },
          "metadata": {},
          "execution_count": 13
        }
      ]
    },
    {
      "cell_type": "markdown",
      "source": [
        "![image.png](data:image/png;base64,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)"
      ],
      "metadata": {
        "id": "gJN1VtIkeeAw"
      }
    },
    {
      "cell_type": "code",
      "source": [
        "tepa = ((42-x_mean)*(37000-y_mean)).sum()\n",
        "past = ((42-x_mean)**2).sum()"
      ],
      "metadata": {
        "id": "EYW298uLgOT1"
      },
      "execution_count": 14,
      "outputs": []
    },
    {
      "cell_type": "code",
      "source": [
        "tilda1 = tepa/past\n",
        "tilda1"
      ],
      "metadata": {
        "colab": {
          "base_uri": "https://localhost:8080/"
        },
        "id": "nKOnUuu6hK_9",
        "outputId": "844d1920-6e60-4be8-b3b6-602595330d5e"
      },
      "execution_count": 15,
      "outputs": [
        {
          "output_type": "execute_result",
          "data": {
            "text/plain": [
              "432.8691687498019"
            ]
          },
          "metadata": {},
          "execution_count": 15
        }
      ]
    },
    {
      "cell_type": "code",
      "source": [
        "tilda0 = y_mean-(tilda1*x_mean)\n",
        "tilda0"
      ],
      "metadata": {
        "colab": {
          "base_uri": "https://localhost:8080/"
        },
        "id": "cQoiHSeohSa1",
        "outputId": "1f41b0fe-a5a0-4aa5-e331-eccf5c4fd270"
      },
      "execution_count": 18,
      "outputs": [
        {
          "output_type": "execute_result",
          "data": {
            "text/plain": [
              "18819.494912508322"
            ]
          },
          "metadata": {},
          "execution_count": 18
        }
      ]
    },
    {
      "cell_type": "markdown",
      "source": [
        "![image.png](data:image/png;base64,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)"
      ],
      "metadata": {
        "id": "wIwBc5rGiXK_"
      }
    },
    {
      "cell_type": "code",
      "source": [
        "Y = tilda0+(tilda1*X.sample())\n",
        "Y"
      ],
      "metadata": {
        "colab": {
          "base_uri": "https://localhost:8080/"
        },
        "id": "IFNNk6oxhwn0",
        "outputId": "d16f9398-bf23-4da2-c2d3-d86c057cf269"
      },
      "execution_count": 23,
      "outputs": [
        {
          "output_type": "execute_result",
          "data": {
            "text/plain": [
              "5064    32671.308313\n",
              "Name: size, dtype: float64"
            ]
          },
          "metadata": {},
          "execution_count": 23
        }
      ]
    },
    {
      "cell_type": "code",
      "source": [
        "y.loc[5064]"
      ],
      "metadata": {
        "colab": {
          "base_uri": "https://localhost:8080/"
        },
        "id": "CJJip37qixEj",
        "outputId": "38257a41-31ee-459d-a0c0-21f0a2f2016d"
      },
      "execution_count": 24,
      "outputs": [
        {
          "output_type": "execute_result",
          "data": {
            "text/plain": [
              "24000.0"
            ]
          },
          "metadata": {},
          "execution_count": 24
        }
      ]
    },
    {
      "cell_type": "code",
      "source": [
        "# test_data = housing.sample(5)\n",
        "# test_data\n",
        "\n",
        "# test_label = housing_labels.loc[test_data.index]\n",
        "# test_label"
      ],
      "metadata": {
        "id": "adtoynlKi4Dr"
      },
      "execution_count": 26,
      "outputs": []
    },
    {
      "cell_type": "code",
      "source": [
        "x_test = X.sample(10)"
      ],
      "metadata": {
        "id": "6e5YWK8Dk4vb"
      },
      "execution_count": 27,
      "outputs": []
    },
    {
      "cell_type": "code",
      "source": [
        "y_test = y.loc[x_test.index]"
      ],
      "metadata": {
        "id": "zD6AObf_lVdj"
      },
      "execution_count": 28,
      "outputs": []
    },
    {
      "cell_type": "code",
      "source": [
        "Y_predicted = tilda0+(tilda1*x_test)\n",
        "Y_predicted"
      ],
      "metadata": {
        "colab": {
          "base_uri": "https://localhost:8080/"
        },
        "id": "9q7zJBxcll9a",
        "outputId": "6c998d37-411c-4ac2-d77f-f939b8a73d1d"
      },
      "execution_count": 30,
      "outputs": [
        {
          "output_type": "execute_result",
          "data": {
            "text/plain": [
              "183     37000.000000\n",
              "798     46955.990881\n",
              "528     40895.822519\n",
              "4767    40462.953350\n",
              "6772    31805.569975\n",
              "5155    58643.458437\n",
              "6844    40030.084181\n",
              "6322    38298.607506\n",
              "5230    66435.103475\n",
              "4378    62106.411787\n",
              "Name: size, dtype: float64"
            ]
          },
          "metadata": {},
          "execution_count": 30
        }
      ]
    },
    {
      "cell_type": "code",
      "source": [
        "pd.DataFrame({'Prognoz':Y_predicted, 'Real baxosi': y_test})"
      ],
      "metadata": {
        "colab": {
          "base_uri": "https://localhost:8080/",
          "height": 362
        },
        "id": "DcHCclLrmNpe",
        "outputId": "5a8bb57e-771d-4ca0-8914-e4b6b5e70a6f"
      },
      "execution_count": 31,
      "outputs": [
        {
          "output_type": "execute_result",
          "data": {
            "text/plain": [
              "           Prognoz  Real baxosi\n",
              "183   37000.000000      25500.0\n",
              "798   46955.990881      38500.0\n",
              "528   40895.822519      26200.0\n",
              "4767  40462.953350      33500.0\n",
              "6772  31805.569975      25200.0\n",
              "5155  58643.458437      56000.0\n",
              "6844  40030.084181      37000.0\n",
              "6322  38298.607506      45000.0\n",
              "5230  66435.103475      83500.0\n",
              "4378  62106.411787      56000.0"
            ],
            "text/html": [
              "\n",
              "  <div id=\"df-33b17754-65df-46c5-a1f1-9b7274ca0004\">\n",
              "    <div class=\"colab-df-container\">\n",
              "      <div>\n",
              "<style scoped>\n",
              "    .dataframe tbody tr th:only-of-type {\n",
              "        vertical-align: middle;\n",
              "    }\n",
              "\n",
              "    .dataframe tbody tr th {\n",
              "        vertical-align: top;\n",
              "    }\n",
              "\n",
              "    .dataframe thead th {\n",
              "        text-align: right;\n",
              "    }\n",
              "</style>\n",
              "<table border=\"1\" class=\"dataframe\">\n",
              "  <thead>\n",
              "    <tr style=\"text-align: right;\">\n",
              "      <th></th>\n",
              "      <th>Prognoz</th>\n",
              "      <th>Real baxosi</th>\n",
              "    </tr>\n",
              "  </thead>\n",
              "  <tbody>\n",
              "    <tr>\n",
              "      <th>183</th>\n",
              "      <td>37000.000000</td>\n",
              "      <td>25500.0</td>\n",
              "    </tr>\n",
              "    <tr>\n",
              "      <th>798</th>\n",
              "      <td>46955.990881</td>\n",
              "      <td>38500.0</td>\n",
              "    </tr>\n",
              "    <tr>\n",
              "      <th>528</th>\n",
              "      <td>40895.822519</td>\n",
              "      <td>26200.0</td>\n",
              "    </tr>\n",
              "    <tr>\n",
              "      <th>4767</th>\n",
              "      <td>40462.953350</td>\n",
              "      <td>33500.0</td>\n",
              "    </tr>\n",
              "    <tr>\n",
              "      <th>6772</th>\n",
              "      <td>31805.569975</td>\n",
              "      <td>25200.0</td>\n",
              "    </tr>\n",
              "    <tr>\n",
              "      <th>5155</th>\n",
              "      <td>58643.458437</td>\n",
              "      <td>56000.0</td>\n",
              "    </tr>\n",
              "    <tr>\n",
              "      <th>6844</th>\n",
              "      <td>40030.084181</td>\n",
              "      <td>37000.0</td>\n",
              "    </tr>\n",
              "    <tr>\n",
              "      <th>6322</th>\n",
              "      <td>38298.607506</td>\n",
              "      <td>45000.0</td>\n",
              "    </tr>\n",
              "    <tr>\n",
              "      <th>5230</th>\n",
              "      <td>66435.103475</td>\n",
              "      <td>83500.0</td>\n",
              "    </tr>\n",
              "    <tr>\n",
              "      <th>4378</th>\n",
              "      <td>62106.411787</td>\n",
              "      <td>56000.0</td>\n",
              "    </tr>\n",
              "  </tbody>\n",
              "</table>\n",
              "</div>\n",
              "      <button class=\"colab-df-convert\" onclick=\"convertToInteractive('df-33b17754-65df-46c5-a1f1-9b7274ca0004')\"\n",
              "              title=\"Convert this dataframe to an interactive table.\"\n",
              "              style=\"display:none;\">\n",
              "        \n",
              "  <svg xmlns=\"http://www.w3.org/2000/svg\" height=\"24px\"viewBox=\"0 0 24 24\"\n",
              "       width=\"24px\">\n",
              "    <path d=\"M0 0h24v24H0V0z\" fill=\"none\"/>\n",
              "    <path d=\"M18.56 5.44l.94 2.06.94-2.06 2.06-.94-2.06-.94-.94-2.06-.94 2.06-2.06.94zm-11 1L8.5 8.5l.94-2.06 2.06-.94-2.06-.94L8.5 2.5l-.94 2.06-2.06.94zm10 10l.94 2.06.94-2.06 2.06-.94-2.06-.94-.94-2.06-.94 2.06-2.06.94z\"/><path d=\"M17.41 7.96l-1.37-1.37c-.4-.4-.92-.59-1.43-.59-.52 0-1.04.2-1.43.59L10.3 9.45l-7.72 7.72c-.78.78-.78 2.05 0 2.83L4 21.41c.39.39.9.59 1.41.59.51 0 1.02-.2 1.41-.59l7.78-7.78 2.81-2.81c.8-.78.8-2.07 0-2.86zM5.41 20L4 18.59l7.72-7.72 1.47 1.35L5.41 20z\"/>\n",
              "  </svg>\n",
              "      </button>\n",
              "      \n",
              "  <style>\n",
              "    .colab-df-container {\n",
              "      display:flex;\n",
              "      flex-wrap:wrap;\n",
              "      gap: 12px;\n",
              "    }\n",
              "\n",
              "    .colab-df-convert {\n",
              "      background-color: #E8F0FE;\n",
              "      border: none;\n",
              "      border-radius: 50%;\n",
              "      cursor: pointer;\n",
              "      display: none;\n",
              "      fill: #1967D2;\n",
              "      height: 32px;\n",
              "      padding: 0 0 0 0;\n",
              "      width: 32px;\n",
              "    }\n",
              "\n",
              "    .colab-df-convert:hover {\n",
              "      background-color: #E2EBFA;\n",
              "      box-shadow: 0px 1px 2px rgba(60, 64, 67, 0.3), 0px 1px 3px 1px rgba(60, 64, 67, 0.15);\n",
              "      fill: #174EA6;\n",
              "    }\n",
              "\n",
              "    [theme=dark] .colab-df-convert {\n",
              "      background-color: #3B4455;\n",
              "      fill: #D2E3FC;\n",
              "    }\n",
              "\n",
              "    [theme=dark] .colab-df-convert:hover {\n",
              "      background-color: #434B5C;\n",
              "      box-shadow: 0px 1px 3px 1px rgba(0, 0, 0, 0.15);\n",
              "      filter: drop-shadow(0px 1px 2px rgba(0, 0, 0, 0.3));\n",
              "      fill: #FFFFFF;\n",
              "    }\n",
              "  </style>\n",
              "\n",
              "      <script>\n",
              "        const buttonEl =\n",
              "          document.querySelector('#df-33b17754-65df-46c5-a1f1-9b7274ca0004 button.colab-df-convert');\n",
              "        buttonEl.style.display =\n",
              "          google.colab.kernel.accessAllowed ? 'block' : 'none';\n",
              "\n",
              "        async function convertToInteractive(key) {\n",
              "          const element = document.querySelector('#df-33b17754-65df-46c5-a1f1-9b7274ca0004');\n",
              "          const dataTable =\n",
              "            await google.colab.kernel.invokeFunction('convertToInteractive',\n",
              "                                                     [key], {});\n",
              "          if (!dataTable) return;\n",
              "\n",
              "          const docLinkHtml = 'Like what you see? Visit the ' +\n",
              "            '<a target=\"_blank\" href=https://colab.research.google.com/notebooks/data_table.ipynb>data table notebook</a>'\n",
              "            + ' to learn more about interactive tables.';\n",
              "          element.innerHTML = '';\n",
              "          dataTable['output_type'] = 'display_data';\n",
              "          await google.colab.output.renderOutput(dataTable, element);\n",
              "          const docLink = document.createElement('div');\n",
              "          docLink.innerHTML = docLinkHtml;\n",
              "          element.appendChild(docLink);\n",
              "        }\n",
              "      </script>\n",
              "    </div>\n",
              "  </div>\n",
              "  "
            ]
          },
          "metadata": {},
          "execution_count": 31
        }
      ]
    },
    {
      "cell_type": "code",
      "source": [
        "from sklearn.metrics import mean_squared_error\n",
        "lin_mse = mean_squared_error(y_test, Y_predicted)\n",
        "# RMSE hisoblaymiz\n",
        "lin_rmse = np.sqrt(lin_mse)\n",
        "print(lin_rmse)"
      ],
      "metadata": {
        "colab": {
          "base_uri": "https://localhost:8080/"
        },
        "id": "5T9OThUWmomv",
        "outputId": "e94d804e-238e-4fee-d2a6-378a3748200d"
      },
      "execution_count": 33,
      "outputs": [
        {
          "output_type": "stream",
          "name": "stdout",
          "text": [
            "9494.283320369384\n"
          ]
        }
      ]
    },
    {
      "cell_type": "code",
      "source": [],
      "metadata": {
        "id": "Hl2cEIatnNtJ"
      },
      "execution_count": null,
      "outputs": []
    },
    {
      "cell_type": "markdown",
      "source": [
        "![image.png](data:image/png;base64,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)\n",
        "![image.png](data:image/png;base64,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)"
      ],
      "metadata": {
        "id": "zSGj1CpSniEf"
      }
    },
    {
      "cell_type": "code",
      "source": [
        "from sklearn.metrics import mean_absolute_error\n",
        "lin_mae = mean_absolute_error(y_test, Y_predicted)\n",
        "print(lin_mae)"
      ],
      "metadata": {
        "colab": {
          "base_uri": "https://localhost:8080/"
        },
        "id": "_UI6AXIgnim_",
        "outputId": "659d8485-dc15-44fb-e5c2-ce7e3713d416"
      },
      "execution_count": 34,
      "outputs": [
        {
          "output_type": "stream",
          "name": "stdout",
          "text": [
            "8376.658014998575\n"
          ]
        }
      ]
    },
    {
      "cell_type": "code",
      "source": [],
      "metadata": {
        "id": "D0NTtao0oYbb"
      },
      "execution_count": null,
      "outputs": []
    }
  ]
}